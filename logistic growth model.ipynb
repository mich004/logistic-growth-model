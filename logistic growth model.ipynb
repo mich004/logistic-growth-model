{
 "cells": [
  {
   "cell_type": "code",
   "execution_count": 1,
   "id": "c62e8fda",
   "metadata": {},
   "outputs": [
    {
     "data": {
      "image/png": "[encoded data removed]",
      "text/plain": [
       "<Figure size 432x288 with 1 Axes>"
      ]
     },
     "metadata": {
      "needs_background": "light"
     },
     "output_type": "display_data"
    },
    {
     "name": "stdout",
     "output_type": "stream",
     "text": [
      "The population after ten years is approximately 1000.00.\n"
     ]
    }
   ],
   "source": [
    "import numpy as np\n",
    "import matplotlib.pyplot as plt\n",
    "\n",
    "def logistic_growth(t, N0, K, r):\n",
    "    \"\"\"\n",
    "    Calculates the population size N at time t using the logistic growth model.\n",
    "\n",
    "    Parameters:\n",
    "    t (array-like): array of time values\n",
    "    N0 (float): initial population size\n",
    "    K (float): carrying capacity of the environment\n",
    "    r (float): intrinsic growth rate\n",
    "\n",
    "    Returns:\n",
    "    N (array-like): array of population sizes at each time point\n",
    "    \"\"\"\n",
    "    A = (K - N0) / N0\n",
    "    N = K / (1 + A * np.exp(-r * t))\n",
    "    return N\n",
    "\n",
    "# Set the parameters\n",
    "N0 = 600\n",
    "K = 1000\n",
    "r = 2.5\n",
    "t = np.linspace(0, 10, 1000)\n",
    "\n",
    "# Calculate the population size over time\n",
    "N = logistic_growth(t, N0, K, r)\n",
    "\n",
    "# Plot the results\n",
    "plt.plot(t, N)\n",
    "plt.xlabel('Time (years)')\n",
    "plt.ylabel('Population size')\n",
    "plt.title('Logistic Growth Model')\n",
    "plt.show()\n",
    "\n",
    "# Calculate the population size after ten years\n",
    "N_10 = logistic_growth(10, N0, K, r)\n",
    "print(f'The population after ten years is approximately {N_10:.2f}.')"
   ]
  },
  {
   "cell_type": "code",
   "execution_count": 3,
   "id": "91b118eb",
   "metadata": {},
   "outputs": [],
   "source": []
  },
  {
   "cell_type": "code",
   "execution_count": null,
   "id": "803037bb",
   "metadata": {},
   "outputs": [],
   "source": []
  },
  {
   "cell_type": "code",
   "execution_count": null,
   "id": "92cb7395",
   "metadata": {},
   "outputs": [],
   "source": []
  }
 ],
 "metadata": {
  "kernelspec": {
   "display_name": "Python 3 (ipykernel)",
   "language": "python",
   "name": "python3"
  },
  "language_info": {
   "codemirror_mode": {
    "name": "ipython",
    "version": 3
   },
   "file_extension": ".py",
   "mimetype": "text/x-python",
   "name": "python",
   "nbconvert_exporter": "python",
   "pygments_lexer": "ipython3",
   "version": "3.9.12"
  }
 },
 "nbformat": 4,
 "nbformat_minor": 5
}
